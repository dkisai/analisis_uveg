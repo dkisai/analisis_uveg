{
 "cells": [
  {
   "cell_type": "code",
   "execution_count": 1,
   "id": "e35fc4f8-f4f3-4e3c-9fe6-51f21bab0652",
   "metadata": {},
   "outputs": [],
   "source": [
    "import pandas as pd\n",
    "import numpy as np"
   ]
  },
  {
   "cell_type": "code",
   "execution_count": 2,
   "id": "dfd1157c-d4c2-4fb0-b828-f39dde635d05",
   "metadata": {},
   "outputs": [],
   "source": [
    "precios_diarios = {\n",
    "    \"Fecha\": [\n",
    "        \"03-Jun-19\", \"04-Jun-19\", \"05-Jun-19\", \"06-Jun-19\", \"07-Jun-19\",\n",
    "        \"10-Jun-19\", \"11-Jun-19\", \"12-Jun-19\", \"13-Jun-19\", \"14-Jun-19\",\n",
    "        \"17-Jun-19\", \"18-Jun-19\", \"19-Jun-19\", \"20-Jun-19\", \"21-Jun-19\",\n",
    "        \"24-Jun-19\", \"25-Jun-19\", \"26-Jun-19\", \"27-Jun-19\", \"28-Jun-19\", \"30-Jun-19\"\n",
    "    ],\n",
    "    \"Precio\": [\n",
    "        1.279205, 1.279455, 1.279707, 1.279958, 1.280210,\n",
    "        1.280956, 1.281204, 1.281451, 1.281698, 1.281946,\n",
    "        1.282671, 1.282909, 1.283149, 1.283397, 1.283654,\n",
    "        1.284401, 1.284650, 1.284899, 1.285148, 1.285395, 1.285395\n",
    "    ]\n",
    "}"
   ]
  },
  {
   "cell_type": "code",
   "execution_count": 3,
   "id": "c126cf39-2c70-428a-b27e-494c57a58e10",
   "metadata": {},
   "outputs": [],
   "source": [
    "df_precios_diarios = pd.DataFrame(precios_diarios)"
   ]
  },
  {
   "cell_type": "code",
   "execution_count": 34,
   "id": "ab5d05e8-7ae1-4e25-818a-7ba544c1532b",
   "metadata": {},
   "outputs": [],
   "source": [
    "df_precios_diarios['Fecha'] = pd.to_datetime(df_precios_diarios['Fecha'], format='%d-%b-%y')\n",
    "\n",
    "df_rendimientos = df_precios_diarios.copy()\n",
    "\n",
    "df_rendimientos['Rendimientos'] = df_rendimientos['Precio'].pct_change()*100"
   ]
  },
  {
   "cell_type": "code",
   "execution_count": 24,
   "id": "ada32d7d-a8f8-49dd-be51-6e7316535d5d",
   "metadata": {},
   "outputs": [
    {
     "data": {
      "text/plain": [
       "(0.024140358362353398,\n",
       " 0.019380833160853594,\n",
       " 0     0.000000\n",
       " 1     0.018555\n",
       " 2     0.018707\n",
       " 3     0.019220\n",
       " 4     0.019275\n",
       " 5     0.019279\n",
       " 6     0.019327\n",
       " 7     0.019349\n",
       " 8     0.019361\n",
       " 9     0.019379\n",
       " 10    0.019383\n",
       " 11    0.019386\n",
       " 12    0.019543\n",
       " 13    0.019614\n",
       " 14    0.019688\n",
       " 15    0.019696\n",
       " 16    0.020025\n",
       " 17    0.056555\n",
       " 18    0.058193\n",
       " 19    0.058272\n",
       " Name: Rendimientos, dtype: float64)"
      ]
     },
     "execution_count": 24,
     "metadata": {},
     "output_type": "execute_result"
    }
   ],
   "source": [
    "# Cálculos estadísticos: Media, Mediana y Moda\n",
    "media_rendimiento = df_rendimientos['Rendimientos'].mean()\n",
    "mediana_rendimiento = df_rendimientos['Rendimientos'].median()\n",
    "\n",
    "# Como la moda puede no existir en datos continuos, es posible que se retorne un DataFrame vacío.\n",
    "# Usaremos el método dropna para asegurarnos de tener valores.\n",
    "moda_rendimiento = df_rendimientos['Rendimientos'].mode().dropna\n",
    "\n",
    "media_rendimiento, mediana_rendimiento, moda_rendimiento"
   ]
  },
  {
   "cell_type": "code",
   "execution_count": null,
   "id": "27824923-38fd-4229-ab5d-f09ade503dc9",
   "metadata": {},
   "outputs": [],
   "source": []
  }
 ],
 "metadata": {
  "kernelspec": {
   "display_name": "Python 3 (ipykernel)",
   "language": "python",
   "name": "python3"
  },
  "language_info": {
   "codemirror_mode": {
    "name": "ipython",
    "version": 3
   },
   "file_extension": ".py",
   "mimetype": "text/x-python",
   "name": "python",
   "nbconvert_exporter": "python",
   "pygments_lexer": "ipython3",
   "version": "3.11.7"
  }
 },
 "nbformat": 4,
 "nbformat_minor": 5
}
